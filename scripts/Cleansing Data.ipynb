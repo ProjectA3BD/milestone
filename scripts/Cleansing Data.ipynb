{
 "cells": [
  {
   "cell_type": "markdown",
   "metadata": {},
   "source": [
    "## Inisiasi"
   ]
  },
  {
   "cell_type": "code",
   "execution_count": 1,
   "metadata": {},
   "outputs": [],
   "source": [
    "import pymysql\n",
    "from sqlalchemy import create_engine\n",
    "import pandas as pd\n",
    "\n",
    "host = '127.0.0.1'\n",
    "port = \"3306\"\n",
    "user = 'root'\n",
    "password = 'ugm2018'\n",
    "database = 'gdelt2'\n",
    "\n",
    "table_name = 'events_LA'\n",
    "fips_country_code = 'LA'\n",
    "country_code = 'LAO'\n",
    "\n",
    "conn_str = 'mysql+pymysql://{}:{}@{}:{}/{}'.format(user, password, host, port, database);           \n",
    "engine = create_engine(conn_str)\n",
    "\n",
    "def run(sql):\n",
    "    df = pd.read_sql_query(sql,engine)\n",
    "    return df\n",
    "\n",
    "def execute(sql):\n",
    "    return engine.execute(statement=sql)\n"
   ]
  },
  {
   "cell_type": "markdown",
   "metadata": {},
   "source": [
    "### Cleansing Strategy\n",
    "- Observe Events by year\n",
    "- Make sure date in range of 2003-2017\n",
    "- Filter by Actor1CountryCode or Actor2CountryCode\n",
    "- Deduplicate SOURCEURL (contained http/https)\n",
    "- For null SOURCEURL and non http source, deduplicate news by theirs similiarities (AvgTone, ActionGeoLat, ActionGeoLong, GoldSteinScale, EventCode)\n",
    "\n",
    "****"
   ]
  },
  {
   "cell_type": "markdown",
   "metadata": {},
   "source": [
    "### a. Get Total News \n",
    "___"
   ]
  },
  {
   "cell_type": "code",
   "execution_count": 8,
   "metadata": {},
   "outputs": [
    {
     "name": "stdout",
     "output_type": "stream",
     "text": [
      "Total News : 102417\n"
     ]
    }
   ],
   "source": [
    "total_news = run(\"\"\"\n",
    "SELECT         \n",
    "    count(GLOBALEVENTID) as count \n",
    "FROM {} \n",
    "\"\"\".format(table_name))\n",
    "\n",
    "print('Total News :', total_news['count'][0])"
   ]
  },
  {
   "cell_type": "markdown",
   "metadata": {},
   "source": [
    "### b. Make sure date in range of 2003-2017\n",
    "___"
   ]
  },
  {
   "cell_type": "markdown",
   "metadata": {},
   "source": [
    "#### 1. Preview"
   ]
  },
  {
   "cell_type": "code",
   "execution_count": 9,
   "metadata": {},
   "outputs": [
    {
     "name": "stdout",
     "output_type": "stream",
     "text": [
      "Out of Range : 0\n"
     ]
    }
   ],
   "source": [
    "out_of_range_counter = run(\"\"\"\n",
    "select count(GLOBALEVENTID) as count from {} where Year < 2003 or Year > 2017\n",
    "\"\"\".format(table_name))\n",
    "\n",
    "print('Out of Range :', out_of_range_counter['count'][0])\n"
   ]
  },
  {
   "cell_type": "markdown",
   "metadata": {},
   "source": [
    "#### 2. Execute Deletion"
   ]
  },
  {
   "cell_type": "code",
   "execution_count": null,
   "metadata": {},
   "outputs": [],
   "source": [
    "execute(\"\"\"\n",
    "delete from events_LA where Year < 2003 or Year > 2017\n",
    "\"\"\")"
   ]
  },
  {
   "cell_type": "markdown",
   "metadata": {},
   "source": [
    "### c. Filter by Actor1CountryCode or Actor2CountryCode"
   ]
  },
  {
   "cell_type": "markdown",
   "metadata": {},
   "source": [
    "#### 1. Preview"
   ]
  },
  {
   "cell_type": "code",
   "execution_count": 12,
   "metadata": {},
   "outputs": [
    {
     "data": {
      "text/html": [
       "<div>\n",
       "<style scoped>\n",
       "    .dataframe tbody tr th:only-of-type {\n",
       "        vertical-align: middle;\n",
       "    }\n",
       "\n",
       "    .dataframe tbody tr th {\n",
       "        vertical-align: top;\n",
       "    }\n",
       "\n",
       "    .dataframe thead th {\n",
       "        text-align: right;\n",
       "    }\n",
       "</style>\n",
       "<table border=\"1\" class=\"dataframe\">\n",
       "  <thead>\n",
       "    <tr style=\"text-align: right;\">\n",
       "      <th></th>\n",
       "      <th>GLOBALEVENTID</th>\n",
       "      <th>SOURCEURL</th>\n",
       "      <th>Actor1CountryCode</th>\n",
       "      <th>Actor2CountryCode</th>\n",
       "    </tr>\n",
       "  </thead>\n",
       "  <tbody>\n",
       "  </tbody>\n",
       "</table>\n",
       "</div>"
      ],
      "text/plain": [
       "Empty DataFrame\n",
       "Columns: [GLOBALEVENTID, SOURCEURL, Actor1CountryCode, Actor2CountryCode]\n",
       "Index: []"
      ]
     },
     "execution_count": 12,
     "metadata": {},
     "output_type": "execute_result"
    }
   ],
   "source": [
    "data = run(\"\"\"\n",
    "select GLOBALEVENTID, SOURCEURL, Actor1CountryCode, Actor2CountryCode \n",
    "from {} WHERE Actor1CountryCode <> '{}' AND Actor2CountryCode <> '{}'\n",
    "\"\"\".format(table_name, country_code, country_code))\n",
    "\n",
    "data"
   ]
  },
  {
   "cell_type": "markdown",
   "metadata": {},
   "source": [
    "#### 2. Execute Deletion"
   ]
  },
  {
   "cell_type": "code",
   "execution_count": 13,
   "metadata": {},
   "outputs": [
    {
     "data": {
      "text/plain": [
       "<sqlalchemy.engine.result.ResultProxy at 0x7fb500065358>"
      ]
     },
     "execution_count": 13,
     "metadata": {},
     "output_type": "execute_result"
    }
   ],
   "source": [
    "execute(\"\"\"\n",
    "delete from events_LA WHERE Actor1CountryCode <> '{}' AND Actor2CountryCode <> '{}'\n",
    "\"\"\".format(table_name, country_code, country_code))"
   ]
  },
  {
   "cell_type": "markdown",
   "metadata": {},
   "source": [
    "### Deduplicate URL (http/https filled data)"
   ]
  },
  {
   "cell_type": "code",
   "execution_count": null,
   "metadata": {},
   "outputs": [],
   "source": [
    "# observations\n",
    "\n",
    "# run(\"\"\"\n",
    "#    select SOURCEURL, AvgTone, count(*)\n",
    "#        from   events_LA\n",
    "#        where  SOURCEURL like 'http://%%' OR SOURCEURL LIKE 'https://%%'\n",
    "#        group by SOURCEURL, AvgTone\n",
    "# \"\"\")\n",
    "\n",
    "run(\"\"\"\n",
    "SELECT t1.GLOBALEVENTID, t1.SOURCEURL,  \n",
    "  ROW_NUMBER() OVER(PARTITION BY t1.SOURCEURL ORDER BY t1.SOURCEURL) AS DuplicateCount\n",
    "  FROM events_BX t1\n",
    "  WHERE t1.SOURCEURL like 'http://%%' OR t1.SOURCEURL LIKE 'https://%%'\n",
    "  \"\"\")\n",
    "\n",
    "# execute(\"\"\"\n",
    "#  DELETE FROM events_BX\n",
    "#  WHERE GLOBALEVENTID in (\n",
    "#  (SELECT t2.GLOBALEVENTID\n",
    "#  FROM\n",
    "#  (SELECT t1.GLOBALEVENTID, t1.SOURCEURL,  \n",
    "#   ROW_NUMBER() OVER(PARTITION BY t1.SOURCEURL ORDER BY t1.SOURCEURL) AS DuplicateCount\n",
    "#   FROM events_BX t1\n",
    "#   WHERE t1.SOURCEURL like 'http://%%' OR t1.SOURCEURL LIKE 'https://%%'\n",
    "#     ) t2\n",
    "#   WHERE t2.DuplicateCount > 1)\n",
    "#   )\n",
    "#  \"\"\")\n",
    "\n",
    "# run(\"\"\n",
    "# DELETE FROM events_LA t3\n",
    "# WHERE \n",
    "# t3.GLOBALEVENTID IN (\n",
    "#      SELECT \n",
    "#          t2.GLOBALEVENTID \n",
    "#          FROM (\n",
    "#              SELECT \n",
    "#              t1.GLOBALEVENTID,\n",
    "#              ROW_NUMBER() OVER (\n",
    "#              PARTITION BY t1.SOURCEURL\n",
    "#              ORDER BY t1.SOURCEURL) AS row_num\n",
    "#              FROM \n",
    "#              events_LA t1\n",
    "#              ) t2 \n",
    "#      WHERE row_num > 1\n",
    "# );\n",
    "# \"\"\")\n",
    "\n",
    "# run(\"\"\"\n",
    "#       SELECT \n",
    "#          t2.GLOBALEVENTID,\n",
    "#          t2.row_num\n",
    "#          FROM (\n",
    "#              SELECT \n",
    "#              t1.GLOBALEVENTID,\n",
    "#              ROW_NUMBER() OVER (\n",
    "#              PARTITION BY t1.SOURCEURL\n",
    "#              ORDER BY t1.SOURCEURL) AS row_num\n",
    "#              FROM \n",
    "#              events_LA t1\n",
    "#              ) t2 \n",
    "#          WHERE t2.row_num > 1\n",
    "#      \"\"\")"
   ]
  },
  {
   "cell_type": "code",
   "execution_count": null,
   "metadata": {},
   "outputs": [],
   "source": []
  }
 ],
 "metadata": {
  "kernelspec": {
   "display_name": "Python 3",
   "language": "python",
   "name": "python3"
  },
  "language_info": {
   "codemirror_mode": {
    "name": "ipython",
    "version": 3
   },
   "file_extension": ".py",
   "mimetype": "text/x-python",
   "name": "python",
   "nbconvert_exporter": "python",
   "pygments_lexer": "ipython3",
   "version": "3.7.0"
  }
 },
 "nbformat": 4,
 "nbformat_minor": 2
}
