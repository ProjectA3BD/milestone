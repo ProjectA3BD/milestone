{
 "cells": [
  {
   "cell_type": "markdown",
   "metadata": {},
   "source": [
    "## Inisiasi "
   ]
  },
  {
   "cell_type": "code",
   "execution_count": 9,
   "metadata": {},
   "outputs": [],
   "source": [
    "import pymysql\n",
    "from sqlalchemy import create_engine\n",
    "import pandas as pd\n",
    "from newspaper import Article\n",
    "import nltk\n",
    "import sys\n",
    "from IPython.display import clear_output\n",
    "\n",
    "host = '127.0.0.1'\n",
    "port = \"3306\"\n",
    "user = 'root'\n",
    "password = 'ugm2018'\n",
    "database = 'gdelt2'\n",
    "\n",
    "table_name = 'events_SN'\n",
    "fips_country_code = 'SN'\n",
    "country_code = 'SGP'\n",
    "# IDN, MYS, THA, SGP, PHL\n",
    "\n",
    "conn_str = 'mysql+pymysql://{}:{}@{}:{}/{}'.format(user, password, host, port, database);           \n",
    "engine = create_engine(conn_str)\n",
    "\n",
    "def run(sql):\n",
    "    df = pd.read_sql_query(sql,engine)\n",
    "    return df\n",
    "\n",
    "def execute(sql):\n",
    "#     print(sql)\n",
    "    return engine.execute(statement=sql)\n"
   ]
  },
  {
   "cell_type": "markdown",
   "metadata": {},
   "source": [
    "## Add Field to Store Keyword in DB ( lakukan sekali saja)"
   ]
  },
  {
   "cell_type": "code",
   "execution_count": 11,
   "metadata": {},
   "outputs": [
    {
     "data": {
      "text/plain": [
       "<sqlalchemy.engine.result.ResultProxy at 0x7eff863eb7b8>"
      ]
     },
     "execution_count": 11,
     "metadata": {},
     "output_type": "execute_result"
    }
   ],
   "source": [
    "# execute(\"\"\"\n",
    "# ALTER TABLE {} \n",
    "# ADD COLUMN `keywords` TEXT NULL AFTER `SOURCEURL`;\n",
    "# \"\"\".format(table_name))\n",
    "\n",
    "execute(\"\"\"\n",
    "ALTER TABLE {} \n",
    "ADD COLUMN `title` TEXT NULL AFTER `keywords`;\n",
    "\"\"\".format(table_name))"
   ]
  },
  {
   "cell_type": "markdown",
   "metadata": {},
   "source": [
    "## Load GDELT Data"
   ]
  },
  {
   "cell_type": "code",
   "execution_count": 12,
   "metadata": {},
   "outputs": [],
   "source": [
    "# load data tahun 2014 ke atas dengan nilai AvgTone > 8 (berita bagus)\n",
    "# select GLOBALEVENTID, SOURCEURL,NumArticles, NumSources, AvgTone\n",
    "# from {}\n",
    "# where\n",
    "#     year > 2014 and AvgTone< 8 order by NumSources DESC, NumArticles DESC LIMIT \n",
    "    \n",
    "news = run(\"\"\"\n",
    "SELECT * FROM\n",
    "(SELECT t1.GLOBALEVENTID, t1.SOURCEURL, t1.NumArticles,t1.NumSources, t1.AvgTone,\n",
    "  ROW_NUMBER() OVER(PARTITION BY t1.MonthYear ORDER BY t1.MonthYear, t1.NumSources DESC, t1.NumArticles DESC) AS Counter\n",
    "  FROM {} t1\n",
    "  WHERE t1.year > 2014 and (t1.AvgTone<-8 OR t1.AvgTone>8)) t2 WHERE t2.Counter < 35\n",
    "\"\"\".format(table_name))\n",
    "\n",
    "news.to_csv('scrapping_SN.csv')\n"
   ]
  },
  {
   "cell_type": "code",
   "execution_count": 6,
   "metadata": {},
   "outputs": [],
   "source": [
    "def escape(str):\n",
    "    return ''.join(e for e in str if e.isalnum())"
   ]
  },
  {
   "cell_type": "code",
   "execution_count": 13,
   "metadata": {},
   "outputs": [
    {
     "data": {
      "text/plain": [
       "(1224, 6)"
      ]
     },
     "execution_count": 13,
     "metadata": {},
     "output_type": "execute_result"
    }
   ],
   "source": [
    "news.shape"
   ]
  },
  {
   "cell_type": "markdown",
   "metadata": {},
   "source": [
    "## It's time to scrap"
   ]
  },
  {
   "cell_type": "code",
   "execution_count": 14,
   "metadata": {
    "scrolled": true
   },
   "outputs": [
    {
     "name": "stdout",
     "output_type": "stream",
     "text": [
      "Scrapping  http://www.themalaymailonline.com/world/article/singapores-shanmugam-backs-polices-raid-tactics-on-illegal-brothels  ->  1220  of  1224  ->  99.67  %\n",
      "Scraping  http://www.themalaymailonline.com/world/article/singapores-shanmugam-backs-polices-raid-tactics-on-illegal-brothels Done..\n",
      "success: 927\n",
      "error: 293\n",
      "Scrapping  https://www.msn.com/en-sg/news/world/fugitive-vietnam-agent-concerned-for-his-safety-if-sent-home/ar-BBHPxPS  ->  1221  of  1224  ->  99.75  %\n",
      "Error scrapping: (<class 'newspaper.article.ArticleException'>, ArticleException('Article `download()` failed with 410 Client Error: Gone for url: https://www.msn.com/en-sg/news/world/fugitive-vietnam-agent-concerned-for-his-safety-if-sent-home/ar-BBHPxPS on URL https://www.msn.com/en-sg/news/world/fugitive-vietnam-agent-concerned-for-his-safety-if-sent-home/ar-BBHPxPS'), <traceback object at 0x7eff864c57c8>)\n",
      "success: 927\n",
      "error: 294\n",
      "Scrapping  http://borneobulletin.com.bn/fugitive-vietnam-agent-concerned-for-his-safety-if-sent-home/  ->  1222  of  1224  ->  99.84  %\n",
      "Scraping  http://borneobulletin.com.bn/fugitive-vietnam-agent-concerned-for-his-safety-if-sent-home/ Done..\n",
      "success: 928\n",
      "error: 294\n",
      "Scrapping  https://angloamerica101.wordpress.com/2017/12/30/man-hating-shitty-state-of-singapore-law-here-protects-only-women-judge-says/  ->  1223  of  1224  ->  99.92  %\n",
      "Scraping  https://angloamerica101.wordpress.com/2017/12/30/man-hating-shitty-state-of-singapore-law-here-protects-only-women-judge-says/ Done..\n",
      "success: 929\n",
      "error: 294\n",
      "Scrapping  http://www.channelnewsasia.com/news/singapore/sister-of-singaporean-killed-in-south-africa-accident-discharged-9819426  ->  1224  of  1224  ->  100.0  %\n",
      "Scraping  http://www.channelnewsasia.com/news/singapore/sister-of-singaporean-killed-in-south-africa-accident-discharged-9819426 Done..\n",
      "success: 930\n",
      "error: 294\n"
     ]
    }
   ],
   "source": [
    "errorCount = 0\n",
    "successCount = 0\n",
    "counter = 0\n",
    "import re\n",
    "\n",
    "t = len(news.values);\n",
    "\n",
    "for item in news.values:\n",
    "    counter += 1\n",
    "    if (counter % 10 == 0):\n",
    "        clear_output(wait=True)\n",
    "        \n",
    "    try:        \n",
    "        url = item[1]              \n",
    "        print(\"Scrapping \", url, \" -> \", str(counter),\" of \", str(t),\" -> \", round(counter/t * 100, 2), \" %\")        \n",
    "        article = Article(url)\n",
    "        article.download()\n",
    "\n",
    "        article.parse()\n",
    "        article.nlp()\n",
    "\n",
    "        execute(\"\"\"\n",
    "        update {} SET keywords=\"{}\", title=\"{}\"         \n",
    "        where\n",
    "            GLOBALEVENTID = {}\n",
    "        \"\"\".format(table_name, ','.join(article.keywords), escape(article.title), item[0]))\n",
    "\n",
    "        with open('news/'+country_code+'/'+str(item[0])+'.txt', 'w') as outfile:              \n",
    "            outfile.write(article.text)\n",
    "#             clear_output(wait=True)\n",
    "            print('Scraping ',url,'Done..')            \n",
    "#             clear_output(wait=True)\n",
    "        successCount += 1\n",
    "    except:\n",
    "        errorCount += 1        \n",
    "        print(\"Error scrapping:\", sys.exc_info())        \n",
    "                  \n",
    "#     clear_output(wait=True)              \n",
    "    print('success:',successCount)\n",
    "    print('error:',errorCount)\n",
    "    "
   ]
  },
  {
   "cell_type": "code",
   "execution_count": null,
   "metadata": {},
   "outputs": [],
   "source": []
  }
 ],
 "metadata": {
  "kernelspec": {
   "display_name": "Python 3",
   "language": "python",
   "name": "python3"
  },
  "language_info": {
   "codemirror_mode": {
    "name": "ipython",
    "version": 3
   },
   "file_extension": ".py",
   "mimetype": "text/x-python",
   "name": "python",
   "nbconvert_exporter": "python",
   "pygments_lexer": "ipython3",
   "version": "3.7.0"
  }
 },
 "nbformat": 4,
 "nbformat_minor": 2
}
