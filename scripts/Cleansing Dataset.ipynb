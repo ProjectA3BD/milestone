{
 "cells": [
  {
   "cell_type": "markdown",
   "metadata": {},
   "source": [
    "---\n",
    "# <span style=\"color:purple\"> CLEANSING DATA </span>\n",
    "---"
   ]
  },
  {
   "cell_type": "markdown",
   "metadata": {},
   "source": [
    "## <span style=\"color:purple\"> Inisiasi </span>"
   ]
  },
  {
   "cell_type": "code",
   "execution_count": 2,
   "metadata": {},
   "outputs": [],
   "source": [
    "import pymysql\n",
    "from sqlalchemy import create_engine\n",
    "import pandas as pd\n",
    "\n",
    "host = '127.0.0.1'\n",
    "port = \"3306\"\n",
    "user = 'root'\n",
    "password = 'ugm2018'\n",
    "database = 'gdelt2'\n",
    "\n",
    "table_name = 'events_SN'\n",
    "fips_country_code = 'SN'\n",
    "country_code = 'SGP'\n",
    "# BRN, KHM, LAO, IDN, MYS, VNM, THA, SGP, PHL, MMR\n",
    "\n",
    "conn_str = 'mysql+pymysql://{}:{}@{}:{}/{}'.format(user, password, host, port, database);           \n",
    "engine = create_engine(conn_str)\n",
    "\n",
    "def run(sql):\n",
    "    df = pd.read_sql_query(sql,engine)\n",
    "    return df\n",
    "\n",
    "def execute(sql):\n",
    "    return engine.execute(statement=sql)\n"
   ]
  },
  {
   "cell_type": "markdown",
   "metadata": {},
   "source": [
    "### <span style=\"color:purple\"> Cleansing Strategy </span>\n",
    "- Observe Events by year\n",
    "- Make sure date in range of 2003-2017\n",
    "- Filter by Actor1CountryCode or Actor2CountryCode\n",
    "- Deduplicate SOURCEURL (contained http/https)\n",
    "- For null SOURCEURL and non http source, deduplicate news by theirs similiarities (AvgTone, ActionGeoLat, ActionGeoLong, GoldSteinScale, EventCode)\n",
    "\n",
    "****"
   ]
  },
  {
   "cell_type": "markdown",
   "metadata": {},
   "source": [
    "### a. Get Total News (Before Cleansing)\n",
    "___"
   ]
  },
  {
   "cell_type": "code",
   "execution_count": 3,
   "metadata": {},
   "outputs": [
    {
     "name": "stdout",
     "output_type": "stream",
     "text": [
      "Total News : 1913966\n"
     ]
    }
   ],
   "source": [
    "total_news = run(\"\"\"\n",
    "SELECT         \n",
    "    count(GLOBALEVENTID) as count \n",
    "FROM {} \n",
    "\"\"\".format(table_name))\n",
    "\n",
    "print('Total News :', total_news['count'][0])"
   ]
  },
  {
   "cell_type": "markdown",
   "metadata": {},
   "source": [
    "### b. Make sure date in range of 2003-2017\n",
    "___"
   ]
  },
  {
   "cell_type": "markdown",
   "metadata": {},
   "source": [
    "#### 1. Preview"
   ]
  },
  {
   "cell_type": "code",
   "execution_count": 4,
   "metadata": {},
   "outputs": [
    {
     "name": "stdout",
     "output_type": "stream",
     "text": [
      "Out of Range : 285891\n"
     ]
    }
   ],
   "source": [
    "out_of_range_counter = run(\"\"\"\n",
    "select count(GLOBALEVENTID) as count from {} where Year < 2003 or Year > 2017\n",
    "\"\"\".format(table_name))\n",
    "\n",
    "print('Out of Range :', out_of_range_counter['count'][0])\n"
   ]
  },
  {
   "cell_type": "markdown",
   "metadata": {},
   "source": [
    "#### 2. Execute Deletion"
   ]
  },
  {
   "cell_type": "code",
   "execution_count": 5,
   "metadata": {},
   "outputs": [
    {
     "name": "stdout",
     "output_type": "stream",
     "text": [
      "Total News Now: 1628075\n"
     ]
    }
   ],
   "source": [
    "execute(\"\"\"\n",
    "delete from {} where Year < 2003 or Year > 2017\n",
    "\"\"\".format(table_name))\n",
    "\n",
    "total_news = run(\"\"\"\n",
    "SELECT         \n",
    "    count(GLOBALEVENTID) as count \n",
    "FROM {} \n",
    "\"\"\".format(table_name))\n",
    "\n",
    "print('Total News Now:', total_news['count'][0])"
   ]
  },
  {
   "cell_type": "markdown",
   "metadata": {},
   "source": [
    "### c. Filter by Actor1CountryCode or Actor2CountryCode\n",
    "---"
   ]
  },
  {
   "cell_type": "markdown",
   "metadata": {},
   "source": [
    "#### 1. Preview"
   ]
  },
  {
   "cell_type": "code",
   "execution_count": null,
   "metadata": {},
   "outputs": [],
   "source": [
    "data = run(\"\"\"\n",
    "select GLOBALEVENTID, SOURCEURL, Actor1CountryCode, Actor2CountryCode \n",
    "from {} WHERE Actor1CountryCode <> '{}' AND Actor2CountryCode <> '{}'\n",
    "\"\"\".format(table_name, country_code, country_code))\n",
    "\n",
    "data"
   ]
  },
  {
   "cell_type": "markdown",
   "metadata": {},
   "source": [
    "#### 2. Execute Deletion"
   ]
  },
  {
   "cell_type": "code",
   "execution_count": 6,
   "metadata": {},
   "outputs": [
    {
     "name": "stdout",
     "output_type": "stream",
     "text": [
      "Total News Now: 872095\n"
     ]
    }
   ],
   "source": [
    "execute(\"\"\"\n",
    "delete from {} WHERE Actor1CountryCode <> '{}' AND Actor2CountryCode <> '{}'\n",
    "\"\"\".format(table_name, country_code, country_code))\n",
    "\n",
    "total_news = run(\"\"\"\n",
    "SELECT         \n",
    "    count(GLOBALEVENTID) as count \n",
    "FROM {} \n",
    "\"\"\".format(table_name))\n",
    "\n",
    "print('Total News Now:', total_news['count'][0])"
   ]
  },
  {
   "cell_type": "markdown",
   "metadata": {},
   "source": [
    "### d. Deduplicate by SOURCEURL (contained http or https )\n",
    "----"
   ]
  },
  {
   "cell_type": "markdown",
   "metadata": {},
   "source": [
    "#### 1. Preview"
   ]
  },
  {
   "cell_type": "code",
   "execution_count": null,
   "metadata": {},
   "outputs": [],
   "source": [
    "duplicateURL = run(\"\"\"\n",
    "SELECT t1.GLOBALEVENTID, t1.SOURCEURL, t1.NumArticles,\n",
    "  ROW_NUMBER() OVER(PARTITION BY t1.SOURCEURL ORDER BY t1.SOURCEURL, t1.NumArticles DESC) AS DuplicateCount\n",
    "  FROM {} t1\n",
    "  WHERE t1.SOURCEURL like 'http://%%' OR t1.SOURCEURL LIKE 'https://%%'  \n",
    "  \n",
    "  \"\"\".format(table_name))\n",
    "\n",
    "duplicateURL"
   ]
  },
  {
   "cell_type": "markdown",
   "metadata": {},
   "source": [
    "#### 2. Execute Deletion"
   ]
  },
  {
   "cell_type": "code",
   "execution_count": null,
   "metadata": {},
   "outputs": [],
   "source": [
    "execute(\"\"\"\n",
    " DELETE FROM {}\n",
    " WHERE GLOBALEVENTID in (\n",
    " (SELECT t2.GLOBALEVENTID\n",
    " FROM\n",
    " (SELECT t1.GLOBALEVENTID, t1.SOURCEURL,  \n",
    "  ROW_NUMBER() OVER(PARTITION BY t1.SOURCEURL ORDER BY t1.SOURCEURL, t1.NumArticles DESC) AS DuplicateCount\n",
    "  FROM events_BX t1\n",
    "  WHERE t1.SOURCEURL like 'http://%%' OR t1.SOURCEURL LIKE 'https://%%'\n",
    "    ) t2\n",
    "  WHERE t2.DuplicateCount > 1)\n",
    "  )\n",
    " \"\"\")\n",
    "\n",
    "total_news = run(\"\"\"\n",
    "SELECT         \n",
    "    count(GLOBALEVENTID) as count \n",
    "FROM {} \n",
    "\"\"\".format(table_name,table_name))\n",
    "\n",
    "print('Total News Now:', total_news['count'][0])"
   ]
  },
  {
   "cell_type": "markdown",
   "metadata": {},
   "source": [
    "### d. Deduplicate by SOURCEURL (other than contained http or https )\n",
    "----\n",
    "Key: Have similarities in SQLDATE, AvgTone, ActionGeoLat, ActionGeoLong, GoldSteinScale, EventCode"
   ]
  },
  {
   "cell_type": "markdown",
   "metadata": {},
   "source": [
    "#### 1. Preview"
   ]
  },
  {
   "cell_type": "code",
   "execution_count": null,
   "metadata": {},
   "outputs": [],
   "source": [
    "duplicateURL2 = run(\"\"\"\n",
    "SELECT t1.GLOBALEVENTID, t1.NumArticles, t1.SOURCEURL, t1.SQLDATE,t1.AvgTone, t1.ActionGeo_Lat, t1.ActionGeo_Long,\n",
    "  ROW_NUMBER() OVER(PARTITION BY t1.SQLDATE,t1.AvgTone, t1.ActionGeo_Lat, t1.ActionGeo_Long\n",
    "  ORDER BY t1.SQLDATE, t1.AvgTone, t1.NumArticles DESC) AS DuplicateCount\n",
    "  FROM {} t1  \n",
    "  WHERE t1.SOURCEURL not like '%%http://%%' OR t1.SOURCEURL not LIKE '%%https://%%'\n",
    "  \"\"\".format(table_name))\n",
    "\n",
    "duplicateURL2"
   ]
  },
  {
   "cell_type": "markdown",
   "metadata": {},
   "source": [
    "#### 2. Execute Deletion"
   ]
  },
  {
   "cell_type": "code",
   "execution_count": null,
   "metadata": {},
   "outputs": [],
   "source": [
    "execute(\"\"\"\n",
    " DELETE FROM {}\n",
    " WHERE GLOBALEVENTID in (\n",
    " (SELECT t2.GLOBALEVENTID\n",
    " FROM\n",
    " (SELECT t1.GLOBALEVENTID,\n",
    "  ROW_NUMBER() OVER(PARTITION BY t1.SQLDATE, t1.AvgTone, t1.ActionGeo_Lat, t1.ActionGeo_Long, t1.SOURCEURL\n",
    "  ORDER BY t1.SQLDATE, t1.AvgTone, t1.NumArticles DESC) AS DuplicateCount\n",
    "  FROM {} t1 WHERE t1.SOURCEURL not like 'http://%%' OR t1.SOURCEURL not LIKE 'https://%%') t2\n",
    "  WHERE t2.DuplicateCount > 1)\n",
    "  )\n",
    " \"\"\".format(table_name, table_name))\n",
    "\n",
    "total_news = run(\"\"\"\n",
    "SELECT         \n",
    "    count(GLOBALEVENTID) as count \n",
    "FROM {} \n",
    "\"\"\".format(table_name,table_name))\n",
    "\n",
    "print('Total News Now:', total_news['count'][0])"
   ]
  },
  {
   "cell_type": "markdown",
   "metadata": {},
   "source": [
    "### f. Get Total News (After Cleansing)\n",
    "___"
   ]
  },
  {
   "cell_type": "code",
   "execution_count": null,
   "metadata": {},
   "outputs": [],
   "source": [
    "total_news = run(\"\"\"\n",
    "SELECT         \n",
    "    count(GLOBALEVENTID) as count \n",
    "FROM {} \n",
    "\"\"\".format(table_name))\n",
    "\n",
    "print('Total News :', total_news['count'][0])"
   ]
  },
  {
   "cell_type": "markdown",
   "metadata": {},
   "source": [
    "---\n",
    "# <span style=\"color:purple\"> REKAP DATA </span>\n",
    "---"
   ]
  },
  {
   "cell_type": "markdown",
   "metadata": {},
   "source": [
    "#### 1. Overview Result"
   ]
  },
  {
   "cell_type": "code",
   "execution_count": null,
   "metadata": {},
   "outputs": [],
   "source": [
    "overviewResult = run(\"\"\"\n",
    "SELECT \n",
    "    Year, \n",
    "    count(a.GLOBALEVENTID) as `Total Events`     \n",
    "FROM {} a GROUP BY Year ORDER BY Year\n",
    "  \"\"\".format(table_name))\n",
    "\n",
    "overviewResult"
   ]
  },
  {
   "cell_type": "markdown",
   "metadata": {},
   "source": [
    "#### 2. Rekap Event"
   ]
  },
  {
   "cell_type": "code",
   "execution_count": null,
   "metadata": {},
   "outputs": [],
   "source": [
    "\n",
    "event = run(\"\"\"\n",
    "SELECT         \n",
    "    Year, \n",
    "    CONCAT(EventCode,'. ',(SELECT description FROM CAMEO_events_code WHERE code = EventCode)) as Description,\n",
    "    count(GLOBALEVENTID) as Jumlah\n",
    "FROM {} \n",
    "WHERE Year > 2002\n",
    "GROUP BY EventCode, Year\n",
    "  \"\"\".format(table_name))\n",
    "\n",
    "event.pivot(index='Description', columns='Year', values='Jumlah')"
   ]
  },
  {
   "cell_type": "markdown",
   "metadata": {},
   "source": [
    "#### 2. Annual AvgTone Data"
   ]
  },
  {
   "cell_type": "code",
   "execution_count": null,
   "metadata": {},
   "outputs": [],
   "source": [
    "rekap_akhir = run(\"\"\"\n",
    "SELECT \n",
    "    Year, \n",
    "    count(a.GLOBALEVENTID) as `Total Events`, \n",
    "    sum(CASE WHEN AvgTone > 0 THEN 1 ELSE 0 END) as `Total +AvgTone`,\n",
    "    sum(CASE WHEN AvgTone < 0 THEN 1 ELSE 0 END) as `Total -AvgTone`,    \n",
    "    sum(CASE WHEN AvgTone = 0 THEN 1 ELSE 0 END) as `Total Netral AvgTone`,    \n",
    "    avg(AvgTone) as `AvgTone`,\n",
    "    avg(CASE WHEN AvgTone > 0 THEN AvgTone ELSE 0 END) as `+AvgTone`,\n",
    "    avg(CASE WHEN AvgTone < 0 THEN AvgTone ELSE 0 END) as `-AvgTone`,    \n",
    "    (sum(AvgTone * NumArticles)/sum(NumArticles)) as `Weighted AvgTone`    \n",
    "FROM {} a GROUP BY Year ORDER BY Year\n",
    "  \"\"\".format(table_name))\n",
    "\n",
    "# max(case when AvgTone >= 0 then AvgTone end) max_positive,\n",
    "# max(case when AvgTone < 0 then AvgTone end) max_negative\n",
    "rekap_akhir.to_csv('rekap' + fips_country_code + '.csv')\n",
    "rekap_akhir"
   ]
  },
  {
   "cell_type": "code",
   "execution_count": null,
   "metadata": {},
   "outputs": [],
   "source": [
    "execute(\"\"\"\n",
    "DELETE FROM events_SN\n",
    "\"\"\")"
   ]
  },
  {
   "cell_type": "code",
   "execution_count": null,
   "metadata": {},
   "outputs": [],
   "source": []
  }
 ],
 "metadata": {
  "kernelspec": {
   "display_name": "Python 3",
   "language": "python",
   "name": "python3"
  },
  "language_info": {
   "codemirror_mode": {
    "name": "ipython",
    "version": 3
   },
   "file_extension": ".py",
   "mimetype": "text/x-python",
   "name": "python",
   "nbconvert_exporter": "python",
   "pygments_lexer": "ipython3",
   "version": "3.7.0"
  }
 },
 "nbformat": 4,
 "nbformat_minor": 2
}
