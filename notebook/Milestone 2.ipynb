{
 "cells": [
  {
   "cell_type": "markdown",
   "metadata": {},
   "source": [
    "## Analisis Statistik\n",
    "\n",
    "1. Statistik Deskriptif\n",
    "2. Statistik Inferensial\n"
   ]
  },
  {
   "cell_type": "code",
   "execution_count": null,
   "metadata": {},
   "outputs": [],
   "source": [
    "import pandas as pd\n",
    "import matplotlib.pyplot as plt\n",
    "import numpy as np\n",
    "import matplotlib.mlab as mlab\n",
    "\n",
    "\n",
    "# Load Dataset untuk dianalisis\n",
    "tone_data = pd.read_csv('data_regresi_normal.csv')\n",
    "data = tone_data[['AvgTone_Norm', 'GDP growth', 'Inflation', 'FDI', 'CAB']]"
   ]
  },
  {
   "cell_type": "markdown",
   "metadata": {},
   "source": [
    "## Data"
   ]
  },
  {
   "cell_type": "code",
   "execution_count": null,
   "metadata": {},
   "outputs": [],
   "source": [
    "data.head()"
   ]
  },
  {
   "cell_type": "markdown",
   "metadata": {},
   "source": [
    "## Statistik Dasar"
   ]
  },
  {
   "cell_type": "code",
   "execution_count": null,
   "metadata": {},
   "outputs": [],
   "source": [
    "data.describe()"
   ]
  },
  {
   "cell_type": "markdown",
   "metadata": {},
   "source": [
    "## Histogram"
   ]
  },
  {
   "cell_type": "code",
   "execution_count": null,
   "metadata": {},
   "outputs": [],
   "source": [
    "import math\n",
    "\n",
    "plt.hist(x=data['AvgTone_Norm'])\n"
   ]
  },
  {
   "cell_type": "code",
   "execution_count": null,
   "metadata": {},
   "outputs": [],
   "source": [
    "import scipy.stats as stats\n",
    "import pylab as pl\n",
    "\n",
    "h = sorted(data['GDP growth'].values) \n",
    "\n",
    "fit = stats.norm.pdf(h, np.mean(h), np.std(h))  \n",
    "\n",
    "pl.plot(h,fit,'-o')\n",
    "\n",
    "pl.hist(h,normed=True)    \n",
    "\n",
    "pl.show()                "
   ]
  },
  {
   "cell_type": "markdown",
   "metadata": {},
   "source": [
    "## Koefisien Korelasi"
   ]
  },
  {
   "cell_type": "code",
   "execution_count": null,
   "metadata": {},
   "outputs": [],
   "source": [
    "data.corr()"
   ]
  },
  {
   "cell_type": "markdown",
   "metadata": {},
   "source": [
    "## Scatterplot"
   ]
  },
  {
   "cell_type": "code",
   "execution_count": null,
   "metadata": {},
   "outputs": [],
   "source": [
    "pd.plotting.scatter_matrix(data, alpha=0.5, figsize=(15,15))"
   ]
  },
  {
   "cell_type": "markdown",
   "metadata": {},
   "source": [
    "## Regresi (Manual gak pake library)"
   ]
  },
  {
   "cell_type": "code",
   "execution_count": null,
   "metadata": {},
   "outputs": [],
   "source": [
    "X1 = data['AvgTone_Norm'].values\n",
    "mones = np.ones(75)\n",
    "\n",
    "x = np.c_[mones, X1]\n",
    "y = data['Inflation'].values\n",
    "\n",
    "# Y = AX + B\n",
    "# A = INV(XT.X) * XT.Y \n",
    "\n",
    "XT = x.T\n",
    "r1 = np.linalg.inv(np.matmul(XT , x))\n",
    "r2 = np.matmul(XT , y)\n",
    "\n",
    "# koefisien ab\n",
    "ab = np.matmul(r1, r2)\n",
    "\n",
    "print(ab)\n",
    "\n",
    "XX = np.arange(-2, 2, 0.02)\n",
    "YY = ab[1]*XX + ab[0]\n",
    "plt.plot(XX, YY)\n",
    "plt.scatter(X1, y, color = 'red', alpha=0.4)\n",
    "plt"
   ]
  },
  {
   "cell_type": "code",
   "execution_count": null,
   "metadata": {},
   "outputs": [],
   "source": []
  }
 ],
 "metadata": {
  "kernelspec": {
   "display_name": "Python 3",
   "language": "python",
   "name": "python3"
  },
  "language_info": {
   "codemirror_mode": {
    "name": "ipython",
    "version": 3
   },
   "file_extension": ".py",
   "mimetype": "text/x-python",
   "name": "python",
   "nbconvert_exporter": "python",
   "pygments_lexer": "ipython3",
   "version": "3.6.7"
  }
 },
 "nbformat": 4,
 "nbformat_minor": 2
}
