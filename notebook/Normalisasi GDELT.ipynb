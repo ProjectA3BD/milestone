{
 "cells": [
  {
   "cell_type": "markdown",
   "metadata": {},
   "source": [
    "## Inisiasi Library"
   ]
  },
  {
   "cell_type": "code",
   "execution_count": null,
   "metadata": {},
   "outputs": [],
   "source": [
    "import pandas as pd\n",
    "from sklearn.preprocessing import StandardScaler, Normalizer, MinMaxScaler, MaxAbsScaler"
   ]
  },
  {
   "cell_type": "markdown",
   "metadata": {},
   "source": [
    "## Combine GDELT Resume Data dan WDI"
   ]
  },
  {
   "cell_type": "code",
   "execution_count": null,
   "metadata": {},
   "outputs": [],
   "source": [
    "## Load Country Tone Data \n",
    "tone_data = pd.read_csv('summary2/rekap_all2.csv')\n",
    "\n",
    "# Load Country Tone Data \n",
    "WDI_data = pd.read_csv('WDI_Asean.csv')\n",
    "# tone_data['GDP growth'] = 0\n",
    "\n",
    "\n",
    "# GDP Growth\n",
    "data = WDI_data.loc[WDI_data['Indicator Code'] == 'NY.GDP.MKTP.KD.ZG'].sort_values(by=['Country Code']).iloc[:, 48:63].values.ravel()\n",
    "tone_data['GDP growth'] = data\n",
    "\n",
    "# Inflation\n",
    "data2 = WDI_data.loc[WDI_data['Indicator Code'] == 'NY.GDP.DEFL.KD.ZG'].sort_values(by=['Country Code']).iloc[:, 48:63].values.ravel()\n",
    "tone_data['Inflation'] = data2\n",
    "\n",
    "# Foreign Investment\n",
    "data3 = WDI_data.loc[WDI_data['Indicator Code'] == 'BX.KLT.DINV.WD.GD.ZS'].sort_values(by=['Country Code']).iloc[:, 48:63].values.ravel()\n",
    "tone_data['FDI'] = data3\n",
    "\n",
    "# CAB\n",
    "data4 = WDI_data.loc[WDI_data['Indicator Code'] == 'BN.CAB.XOKA.GD.ZS'].sort_values(by=['Country Code']).iloc[:, 48:63].values.ravel()\n",
    "tone_data['CAB'] = data4\n",
    "\n",
    "tone_data.to_csv('data_regresi2.csv')\n",
    "\n",
    "# Normalisasi Data\n",
    "selected_country = ['IDN','THA','MYS','SGP','PHL']\n",
    "\n",
    "max_tones = tone_data[tone_data['Year'] >= 2013][tone_data['Country'].isin(selected_country)]['AvgTone'].max()\n",
    "min_tones = tone_data[tone_data['Year'] >= 2013][tone_data['Country'].isin(selected_country)]['AvgTone'].min()\n",
    "\n",
    "grand_avg = tone_data.groupby(['Year'])[['Year', 'AvgTone']].mean()\n",
    "\n",
    "tones = tone_data[['Year','Country','AvgTone']]\n",
    "newtones = []\n",
    "for tone in tones.values:    \n",
    "    s = grand_avg[grand_avg['Year'] == tone[0]]['AvgTone'].values[0]\n",
    "    x = tone[2] - s\n",
    "    newtones.append(x)\n",
    "               \n",
    "tone_data['AvgTone_Norm'] = newtones\n",
    "\n",
    "tone_data[tone_data['Country'].isin(selected_country)].to_csv('data_regresi_normalisasi.csv')\n",
    "\n",
    "tone_data[tone_data['Country'].isin(selected_country)]\n"
   ]
  },
  {
   "cell_type": "markdown",
   "metadata": {},
   "source": [
    "## Oddities of GDELT "
   ]
  },
  {
   "cell_type": "code",
   "execution_count": null,
   "metadata": {},
   "outputs": [],
   "source": [
    "import matplotlib.pyplot as plt\n",
    "import numpy as np\n",
    "\n",
    "x = np.arange(2003,2018,1) \n",
    "y1 = tone_data[tone_data['Country'] == 'IDN']['AvgTone_Norm']\n",
    "y2 = tone_data[tone_data['Country'] == 'THA']['AvgTone_Norm']\n",
    "y3 = tone_data[tone_data['Country'] == 'MYS']['AvgTone_Norm']\n",
    "y4 = tone_data[tone_data['Country'] == 'PHL']['AvgTone_Norm']\n",
    "y5 = tone_data[tone_data['Country'] == 'SGP']['AvgTone_Norm']\n",
    "\n",
    "plt.figure(num=None, figsize=(10, 3), dpi=80, facecolor='w', edgecolor='k')\n",
    "plt.xticks(np.arange(2003,2018,1))\n",
    "plt.yticks(np.arange(-2,3,0.5))\n",
    "plt.plot(x, y1, label = 'Indonesia')\n",
    "plt.plot(x, y2, label = 'Thailand')\n",
    "plt.plot(x, y3, label = 'Malaysia')\n",
    "plt.plot(x, y4, label = 'Filipina')\n",
    "plt.plot(x, y5, label = 'SIngapura')\n",
    "plt.ylim(-5, 8)\n",
    "plt.legend()\n",
    "plt.grid()\n",
    "plt.show()"
   ]
  }
 ],
 "metadata": {
  "kernelspec": {
   "display_name": "Python 3",
   "language": "python",
   "name": "python3"
  },
  "language_info": {
   "codemirror_mode": {
    "name": "ipython",
    "version": 3
   },
   "file_extension": ".py",
   "mimetype": "text/x-python",
   "name": "python",
   "nbconvert_exporter": "python",
   "pygments_lexer": "ipython3",
   "version": "3.6.7"
  }
 },
 "nbformat": 4,
 "nbformat_minor": 2
}
