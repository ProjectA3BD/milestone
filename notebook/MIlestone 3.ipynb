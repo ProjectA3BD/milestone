{
 "cells": [
  {
   "cell_type": "markdown",
   "metadata": {},
   "source": [
    "# Test Penerapan ML"
   ]
  },
  {
   "cell_type": "code",
   "execution_count": 1,
   "metadata": {},
   "outputs": [
    {
     "ename": "NameError",
     "evalue": "name 'Imputer' is not defined",
     "output_type": "error",
     "traceback": [
      "\u001b[0;31m---------------------------------------------------------------------------\u001b[0m",
      "\u001b[0;31mNameError\u001b[0m                                 Traceback (most recent call last)",
      "\u001b[0;32m<ipython-input-1-be00509efb91>\u001b[0m in \u001b[0;36m<module>\u001b[0;34m()\u001b[0m\n\u001b[1;32m     12\u001b[0m \u001b[0;34m\u001b[0m\u001b[0m\n\u001b[1;32m     13\u001b[0m \u001b[0;31m# handle missing values\u001b[0m\u001b[0;34m\u001b[0m\u001b[0;34m\u001b[0m\u001b[0m\n\u001b[0;32m---> 14\u001b[0;31m \u001b[0mimputer\u001b[0m \u001b[0;34m=\u001b[0m \u001b[0mImputer\u001b[0m\u001b[0;34m(\u001b[0m\u001b[0mmissing_values\u001b[0m\u001b[0;34m=\u001b[0m\u001b[0;34m'NaN'\u001b[0m\u001b[0;34m,\u001b[0m \u001b[0mstrategy\u001b[0m\u001b[0;34m=\u001b[0m\u001b[0;34m'median'\u001b[0m\u001b[0;34m,\u001b[0m \u001b[0maxis\u001b[0m \u001b[0;34m=\u001b[0m \u001b[0;36m0\u001b[0m\u001b[0;34m)\u001b[0m\u001b[0;34m\u001b[0m\u001b[0m\n\u001b[0m\u001b[1;32m     15\u001b[0m \u001b[0mdata\u001b[0m\u001b[0;34m.\u001b[0m\u001b[0miloc\u001b[0m\u001b[0;34m[\u001b[0m\u001b[0;34m:\u001b[0m\u001b[0;34m,\u001b[0m \u001b[0;36m1\u001b[0m\u001b[0;34m:\u001b[0m\u001b[0;34m]\u001b[0m \u001b[0;34m=\u001b[0m \u001b[0mimputer\u001b[0m\u001b[0;34m.\u001b[0m\u001b[0mfit_transform\u001b[0m\u001b[0;34m(\u001b[0m\u001b[0mdata\u001b[0m\u001b[0;34m.\u001b[0m\u001b[0miloc\u001b[0m\u001b[0;34m[\u001b[0m\u001b[0;34m:\u001b[0m\u001b[0;34m,\u001b[0m \u001b[0;36m1\u001b[0m\u001b[0;34m:\u001b[0m\u001b[0;34m]\u001b[0m\u001b[0;34m)\u001b[0m\u001b[0;34m\u001b[0m\u001b[0m\n",
      "\u001b[0;31mNameError\u001b[0m: name 'Imputer' is not defined"
     ]
    }
   ],
   "source": [
    "import pandas as pd\n",
    "import matplotlib.pyplot as plt\n",
    "import numpy as np\n",
    "import matplotlib.mlab as mlab\n",
    "from sklearn import svm\n",
    "import matplotlib.pyplot as plt\n",
    "from sklearn.model_selection import train_test_split\n",
    "\n",
    "# Load Dataset untuk dianalisis\n",
    "tone_data = pd.read_csv('data_regresi_normal.csv')\n",
    "data = tone_data[['Country','AvgTone_Norm', 'GDP growth', 'Inflation', 'FDI', 'CAB']]\n",
    "\n",
    "# handle missing values\n",
    "imputer = Imputer(missing_values='NaN', strategy='median', axis = 0)\n",
    "data.iloc[:, 1:] = imputer.fit_transform(data.iloc[:, 1:])"
   ]
  },
  {
   "cell_type": "code",
   "execution_count": 58,
   "metadata": {},
   "outputs": [
    {
     "data": {
      "text/plain": [
       "Index(['Unnamed: 0', 'Year', 'Country', 'Total News', 'Total Neg_AvgTone',\n",
       "       'Total Pos_AvgTone', 'Total Netral AvgTone', 'AvgTone', 'AvgTone2',\n",
       "       'Pos_AvgTone', 'Weighted AvgTone', 'GDP growth', 'Inflation', 'FDI',\n",
       "       'CAB', 'Tax Revenune', 'AvgTone_Norm'],\n",
       "      dtype='object')"
      ]
     },
     "execution_count": 58,
     "metadata": {},
     "output_type": "execute_result"
    }
   ],
   "source": [
    "tone_data.columns"
   ]
  },
  {
   "cell_type": "markdown",
   "metadata": {},
   "source": [
    "# Membuat Model ML"
   ]
  },
  {
   "cell_type": "code",
   "execution_count": 94,
   "metadata": {},
   "outputs": [
    {
     "data": {
      "text/plain": [
       "LinearSVR(C=1.0, dual=True, epsilon=0.0, fit_intercept=True,\n",
       "     intercept_scaling=1.0, loss='epsilon_insensitive', max_iter=1000,\n",
       "     random_state=None, tol=0.0001, verbose=0)"
      ]
     },
     "execution_count": 94,
     "metadata": {},
     "output_type": "execute_result"
    }
   ],
   "source": [
    "#Membuat Model ML: \n",
    "\n",
    "#For Instance, AvgTone_Norm Vs Inflation\n",
    "X = data['AvgTone_Norm'].values.reshape(-1, 1)\n",
    "y = data['Inflation'].values\n",
    "\n",
    "X_train, X_test, y_train, y_test = train_test_split(X, y, test_size=0.1, random_state=5)\n",
    "\n",
    "model = svm.LinearSVR()\n",
    "model.fit(X_train, y_train) "
   ]
  },
  {
   "cell_type": "markdown",
   "metadata": {},
   "source": [
    "# Tes Prediksi"
   ]
  },
  {
   "cell_type": "code",
   "execution_count": 95,
   "metadata": {},
   "outputs": [
    {
     "data": {
      "text/plain": [
       "array([1.42052997])"
      ]
     },
     "execution_count": 95,
     "metadata": {},
     "output_type": "execute_result"
    }
   ],
   "source": [
    "model.predict(0.3)"
   ]
  },
  {
   "cell_type": "markdown",
   "metadata": {},
   "source": [
    "# Visualisasi"
   ]
  },
  {
   "cell_type": "code",
   "execution_count": 105,
   "metadata": {},
   "outputs": [
    {
     "data": {
      "image/png": "[encoded data removed]",
      "text/plain": [
       "<Figure size 432x288 with 1 Axes>"
      ]
     },
     "metadata": {
      "needs_background": "light"
     },
     "output_type": "display_data"
    }
   ],
   "source": [
    "XX = np.arange(-2, 2, 0.02).reshape(-1, 1)\n",
    "YY = model.predict(XX)\n",
    "\n",
    "#Membuat Plot Garis\n",
    "plt.plot(XX, YY)\n",
    "\n",
    "#Membuat Scatter Graph Train Data (Warna Merah)\n",
    "plt.scatter(X_train, y_train, color = 'red', alpha=0.4)\n",
    "\n",
    "#Membuat Scatter Graph Test Data (Warna Hijau)\n",
    "plt.scatter(X_test, y_test, color = 'green', alpha=0.4)\n",
    "\n",
    "#Menampilkan Plot\n",
    "plt.show()"
   ]
  },
  {
   "cell_type": "code",
   "execution_count": 102,
   "metadata": {},
   "outputs": [
    {
     "data": {
      "text/html": [
       "<div>\n",
       "<style scoped>\n",
       "    .dataframe tbody tr th:only-of-type {\n",
       "        vertical-align: middle;\n",
       "    }\n",
       "\n",
       "    .dataframe tbody tr th {\n",
       "        vertical-align: top;\n",
       "    }\n",
       "\n",
       "    .dataframe thead th {\n",
       "        text-align: right;\n",
       "    }\n",
       "</style>\n",
       "<table border=\"1\" class=\"dataframe\">\n",
       "  <thead>\n",
       "    <tr style=\"text-align: right;\">\n",
       "      <th></th>\n",
       "      <th>X Test</th>\n",
       "      <th>Prediction</th>\n",
       "      <th>Actual Y</th>\n",
       "      <th>Error</th>\n",
       "    </tr>\n",
       "  </thead>\n",
       "  <tbody>\n",
       "    <tr>\n",
       "      <th>0</th>\n",
       "      <td>-0.201447</td>\n",
       "      <td>2.514630</td>\n",
       "      <td>0.174474</td>\n",
       "      <td>-2.340155</td>\n",
       "    </tr>\n",
       "    <tr>\n",
       "      <th>1</th>\n",
       "      <td>-0.375892</td>\n",
       "      <td>2.895251</td>\n",
       "      <td>2.467467</td>\n",
       "      <td>-0.427784</td>\n",
       "    </tr>\n",
       "    <tr>\n",
       "      <th>2</th>\n",
       "      <td>-0.280043</td>\n",
       "      <td>2.686118</td>\n",
       "      <td>4.965990</td>\n",
       "      <td>2.279872</td>\n",
       "    </tr>\n",
       "    <tr>\n",
       "      <th>3</th>\n",
       "      <td>-0.525000</td>\n",
       "      <td>3.220587</td>\n",
       "      <td>3.090331</td>\n",
       "      <td>-0.130256</td>\n",
       "    </tr>\n",
       "    <tr>\n",
       "      <th>4</th>\n",
       "      <td>-0.727483</td>\n",
       "      <td>3.662381</td>\n",
       "      <td>5.104272</td>\n",
       "      <td>1.441891</td>\n",
       "    </tr>\n",
       "    <tr>\n",
       "      <th>5</th>\n",
       "      <td>-0.625591</td>\n",
       "      <td>3.440064</td>\n",
       "      <td>7.549062</td>\n",
       "      <td>4.108998</td>\n",
       "    </tr>\n",
       "    <tr>\n",
       "      <th>6</th>\n",
       "      <td>1.169306</td>\n",
       "      <td>-0.476196</td>\n",
       "      <td>3.586557</td>\n",
       "      <td>4.062754</td>\n",
       "    </tr>\n",
       "    <tr>\n",
       "      <th>7</th>\n",
       "      <td>-0.567253</td>\n",
       "      <td>3.312777</td>\n",
       "      <td>4.222387</td>\n",
       "      <td>0.909610</td>\n",
       "    </tr>\n",
       "  </tbody>\n",
       "</table>\n",
       "</div>"
      ],
      "text/plain": [
       "     X Test  Prediction  Actual Y      Error\n",
       "0 -0.201447    2.514630   0.174474 -2.340155\n",
       "1 -0.375892    2.895251   2.467467 -0.427784\n",
       "2 -0.280043    2.686118   4.965990  2.279872\n",
       "3 -0.525000    3.220587   3.090331 -0.130256\n",
       "4 -0.727483    3.662381   5.104272  1.441891\n",
       "5 -0.625591    3.440064   7.549062  4.108998\n",
       "6  1.169306   -0.476196   3.586557  4.062754\n",
       "7 -0.567253    3.312777   4.222387  0.909610"
      ]
     },
     "execution_count": 102,
     "metadata": {},
     "output_type": "execute_result"
    }
   ],
   "source": [
    "import pandas as pd\n",
    "\n",
    "result_array = []\n",
    "for idx, val in enumerate(X_test):\n",
    "    p = model.predict([val])[0]\n",
    "    e = y_test[idx] - p\n",
    "    result_array.append([val[0], p, y_test[idx], e])\n",
    "\n",
    "df = pd.DataFrame(result_array, columns=['X Test', 'Prediction', 'Actual Y ', 'Error'])\n",
    "df\n"
   ]
  },
  {
   "cell_type": "code",
   "execution_count": null,
   "metadata": {},
   "outputs": [],
   "source": []
  }
 ],
 "metadata": {
  "kernelspec": {
   "display_name": "Python 3",
   "language": "python",
   "name": "python3"
  },
  "language_info": {
   "codemirror_mode": {
    "name": "ipython",
    "version": 3
   },
   "file_extension": ".py",
   "mimetype": "text/x-python",
   "name": "python",
   "nbconvert_exporter": "python",
   "pygments_lexer": "ipython3",
   "version": "3.7.0"
  }
 },
 "nbformat": 4,
 "nbformat_minor": 2
}
